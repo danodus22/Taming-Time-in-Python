{
 "cells": [
  {
   "cell_type": "markdown",
   "metadata": {},
   "source": [
    "# Typical API time specifications\n",
    "\n",
    "Here are some examples of common time specifications as they might appear in a JSON API responses:\n",
    "\n",
    "- UNIX timestamp: \t\t\t\t\t\t`1737537900`\n",
    "- UNIX TZ-Format\t\t\t\t\t\t\t`Mon Jan 22 08:25:00 UTC 2025`\n",
    "- Epoch Milliseconds\t\t\t\t\t`1737537900000`\n",
    "\n",
    "- ISO 8601 (with time zone):\t`2025-01-22T09:25:00+01:00`\n",
    "- ISO 8601 (UTC): \t\t\t\t\t\t`2025-01-22T08:25:00Z`\n",
    "- ISO 8601 Kompakt\t\t\t\t\t\t`20250122T092500+0100`\n",
    "\n",
    "- RFC 822: \t\t\t\t\t\t\t\t\t\t`Mon, 22 Jan 2025 09:25:00 +0100`\n",
    "- RFC 3339: \t\t\t\t\t\t\t\t\t`2024-01-22T09:25:00+01:00`\n",
    "\n",
    "Python can process all these formats without any problems. You can check the following website to get more information on timeformats:\n",
    "- https://www.unixtimestamp.com/"
   ]
  },
  {
   "cell_type": "markdown",
   "metadata": {},
   "source": [
    "# Basics of datetime: Creating, formatting and calculating dates and times."
   ]
  },
  {
   "cell_type": "markdown",
   "metadata": {},
   "source": [
    "Import und Erstellung eines datetime-Objekts"
   ]
  },
  {
   "cell_type": "code",
   "execution_count": 1,
   "metadata": {},
   "outputs": [
    {
     "name": "stdout",
     "output_type": "stream",
     "text": [
      "Created datetime-Object: 2025-01-22 09:25:00\n"
     ]
    }
   ],
   "source": [
    "from datetime import datetime\n",
    "\n",
    "# Create a datetime-Object\n",
    "dt = datetime(2025, 1, 22, 9, 25, 0)\n",
    "print(f\"Created datetime-Object: {dt}\")"
   ]
  },
  {
   "cell_type": "markdown",
   "metadata": {},
   "source": [
    "Formatting into different strings & extracting individual values"
   ]
  },
  {
   "cell_type": "code",
   "execution_count": 2,
   "metadata": {},
   "outputs": [
    {
     "name": "stdout",
     "output_type": "stream",
     "text": [
      "Formatted date: 2025-01-22 09:25:00\n",
      "Day/Month/Year: 22/01/2025\n",
      "12-hour-format with AM/PM: 09:25 AM\n",
      "Weekday: Wednesday\n",
      "Year: 2025\n",
      "Month: 1\n",
      "Day: 22\n",
      "Hour: 9\n",
      "Minute: 25\n",
      "Second: 0\n"
     ]
    }
   ],
   "source": [
    "# Formatting the datetime object\n",
    "formatted_date = dt.strftime(\"%Y-%m-%d %H:%M:%S\")  # ISO-like format\n",
    "print(f\"Formatted date: {formatted_date}\")\n",
    "\n",
    "# More Examples\n",
    "print(f\"Day/Month/Year: {dt.strftime('%d/%m/%Y')}\")\n",
    "print(f\"12-hour-format with AM/PM: {dt.strftime('%I:%M %p')}\")\n",
    "print(f\"Weekday: {dt.strftime('%A')}\")\n",
    "\n",
    "print(f\"Year: {dt.year}\")\n",
    "print(f\"Month: {dt.month}\")\n",
    "print(f\"Day: {dt.day}\")\n",
    "print(f\"Hour: {dt.hour}\")\n",
    "print(f\"Minute: {dt.minute}\")\n",
    "print(f\"Second: {dt.second}\")"
   ]
  },
  {
   "cell_type": "markdown",
   "metadata": {},
   "source": [
    "Calculations with timedelta"
   ]
  },
  {
   "cell_type": "code",
   "execution_count": 4,
   "metadata": {},
   "outputs": [
    {
     "name": "stdout",
     "output_type": "stream",
     "text": [
      "10 days later: 2025-02-01 09:25:00\n",
      "5 hours earlier: 2025-01-22 04:25:00\n"
     ]
    }
   ],
   "source": [
    "from datetime import timedelta\n",
    "\n",
    "# Add 10 days\n",
    "future_date = dt + timedelta(days=10)\n",
    "print(f\"10 days later: {future_date}\")\n",
    "\n",
    "# Subtract 5 hours\n",
    "past_date = dt - timedelta(hours=5)\n",
    "print(f\"5 hours earlier: {past_date}\")"
   ]
  },
  {
   "cell_type": "markdown",
   "metadata": {},
   "source": [
    "**Current time and UTC**\n",
    "\n",
    "`datetime.utcnow()` is considered deprecated because it does not provide timezone information and you should use `datetime.now(tz=timezone.utc)` instead to explicitly work with UTC and timezones. `datetime.utcnow()` only returns a timestamp and no information about timezones. If you work with time zones later, you should do without it directly."
   ]
  },
  {
   "cell_type": "code",
   "execution_count": 5,
   "metadata": {},
   "outputs": [
    {
     "name": "stdout",
     "output_type": "stream",
     "text": [
      "UTC time (obsolete, without time zone information): 2025-01-28 10:45:46.681023 | tzinfo: None\n",
      "UTC time (modern, with time zone information): 2025-01-28 10:45:46.681023+00:00 | tzinfo: UTC\n"
     ]
    },
    {
     "name": "stderr",
     "output_type": "stream",
     "text": [
      "C:\\Users\\Daniel\\AppData\\Local\\Temp\\ipykernel_6316\\3163045727.py:4: DeprecationWarning: datetime.datetime.utcnow() is deprecated and scheduled for removal in a future version. Use timezone-aware objects to represent datetimes in UTC: datetime.datetime.now(datetime.UTC).\n",
      "  utc_old = datetime.utcnow()\n"
     ]
    }
   ],
   "source": [
    "from datetime import datetime, timezone\n",
    "\n",
    "# Deprecated method: datetime.utcnow()\n",
    "utc_old = datetime.utcnow()\n",
    "print(f\"UTC time (obsolete, without time zone information): {utc_old} | tzinfo: {utc_old.tzinfo}\")\n",
    "\n",
    "# Modern method: datetime.now(tz=timezone.utc)\n",
    "utc_new = datetime.now(tz=timezone.utc)\n",
    "print(f\"UTC time (modern, with time zone information): {utc_new} | tzinfo: {utc_new.tzinfo}\")\n"
   ]
  },
  {
   "cell_type": "code",
   "execution_count": null,
   "metadata": {},
   "outputs": [],
   "source": [
    "# Current local time\n",
    "now = datetime.now()\n",
    "print(f\"Current local time: {now}\")\n",
    "\n",
    "# Current UTC-Time\n",
    "utc_now = datetime.now(tz=timezone.utc)\n",
    "print(f\"Current UTC-Time: {utc_now}\")\n",
    "\n",
    "# Difference to the current time\n",
    "difference = now - dt\n",
    "print(f\"Time difference to the reference time: {difference}\")"
   ]
  },
  {
   "cell_type": "markdown",
   "metadata": {},
   "source": [
    "UTC to local time"
   ]
  },
  {
   "cell_type": "code",
   "execution_count": 8,
   "metadata": {},
   "outputs": [
    {
     "name": "stdout",
     "output_type": "stream",
     "text": [
      "UTC Time: 2025-01-28 10:50:34.632344+00:00\n",
      "Local Time (Berlin): 2025-01-28 11:50:34.632344+01:00\n"
     ]
    }
   ],
   "source": [
    "from datetime import datetime, timezone\n",
    "from zoneinfo import ZoneInfo\n",
    "\n",
    "# Current UTC-Zeit\n",
    "utc_now = datetime.now(timezone.utc)\n",
    "\n",
    "# Apply time zone, e.g. Europe/Berlin\n",
    "local_time = utc_now.replace(tzinfo=ZoneInfo(\"UTC\")).astimezone(ZoneInfo(\"Europe/Berlin\"))\n",
    "\n",
    "print(\"UTC Time:\", utc_now)\n",
    "print(\"Local Time (Berlin):\", local_time)"
   ]
  },
  {
   "cell_type": "markdown",
   "metadata": {},
   "source": [
    "# Time zones with zoneinfo \n",
    "Time zones with zoneinfo: Create a timestamp in UTC and convert to another time zone"
   ]
  },
  {
   "cell_type": "code",
   "execution_count": 7,
   "metadata": {},
   "outputs": [
    {
     "name": "stdout",
     "output_type": "stream",
     "text": [
      "UTC-Zeit: 2025-01-28 10:50:31.687070+00:00\n",
      "Zeit in New York: 2025-01-28 05:50:31.687070-05:00\n",
      "Zeit in Berlin: 2025-01-28 11:50:31.687070+01:00\n"
     ]
    }
   ],
   "source": [
    "from datetime import datetime\n",
    "from zoneinfo import ZoneInfo\n",
    "\n",
    "# Aktuelle Zeit in UTC\n",
    "dt_utc = datetime.now(tz=ZoneInfo(\"UTC\"))\n",
    "print(f\"UTC-Zeit: {dt_utc}\")\n",
    "\n",
    "# Konvertieren nach New York (Eastern Standard Time)\n",
    "dt_ny = dt_utc.astimezone(ZoneInfo(\"America/New_York\"))\n",
    "print(f\"Zeit in New York: {dt_ny}\")\n",
    "\n",
    "# Konvertieren nach Berlin (Central European Time)\n",
    "dt_berlin = dt_utc.astimezone(ZoneInfo(\"Europe/Berlin\"))\n",
    "print(f\"Zeit in Berlin: {dt_berlin}\")"
   ]
  },
  {
   "cell_type": "markdown",
   "metadata": {},
   "source": [
    "Working with naive and “aware” datetime objects"
   ]
  },
  {
   "cell_type": "code",
   "execution_count": 9,
   "metadata": {},
   "outputs": [
    {
     "name": "stdout",
     "output_type": "stream",
     "text": [
      "Naive Zeit: 2025-01-22 09:25:00\n",
      "Aware Zeit in UTC: 2025-01-22 09:25:00+00:00\n",
      "Aware Zeit in New York: 2025-01-22 04:25:00-05:00\n"
     ]
    }
   ],
   "source": [
    "# Naive datetime (without time zone info)\n",
    "naive_dt = datetime(2025, 1, 22, 9, 25, 0)\n",
    "print(f\"Naive Zeit: {naive_dt}\")\n",
    "\n",
    "# Conversion to an “aware” datetime with time zone\n",
    "aware_dt_utc = naive_dt.replace(tzinfo=ZoneInfo(\"UTC\"))\n",
    "print(f\"Aware Zeit in UTC: {aware_dt_utc}\")\n",
    "\n",
    "# Conversion to New York\n",
    "aware_dt_ny = aware_dt_utc.astimezone(ZoneInfo(\"America/New_York\"))\n",
    "print(f\"Aware Zeit in New York: {aware_dt_ny}\")"
   ]
  },
  {
   "cell_type": "markdown",
   "metadata": {},
   "source": [
    "Summer time and changes"
   ]
  },
  {
   "cell_type": "code",
   "execution_count": 10,
   "metadata": {},
   "outputs": [
    {
     "name": "stdout",
     "output_type": "stream",
     "text": [
      "Summer time (July): 2025-07-01 09:25:00-04:00\n",
      "Winter time (December): 2025-12-01 09:25:00-05:00\n"
     ]
    }
   ],
   "source": [
    "# Example of the summer time changeover\n",
    "\n",
    "dt_summer = datetime(2025, 7, 1, 9, 25, 0, tzinfo=ZoneInfo(\"America/New_York\"))\n",
    "dt_winter = datetime(2025, 12, 1, 9, 25, 0, tzinfo=ZoneInfo(\"America/New_York\"))\n",
    "\n",
    "print(f\"Summer time (July): {dt_summer}\")\n",
    "print(f\"Winter time (December): {dt_winter}\")"
   ]
  },
  {
   "cell_type": "markdown",
   "metadata": {},
   "source": [
    "Checking the time zone of a datetime object"
   ]
  },
  {
   "cell_type": "code",
   "execution_count": 11,
   "metadata": {},
   "outputs": [
    {
     "name": "stdout",
     "output_type": "stream",
     "text": [
      "Time zone of New York: America/New_York\n",
      "Time zone of Berlin: Europe/Berlin\n"
     ]
    }
   ],
   "source": [
    "# Call up time zone info\n",
    "print(f\"Time zone of New York: {dt_ny.tzinfo}\")\n",
    "print(f\"Time zone of Berlin: {dt_berlin.tzinfo}\")"
   ]
  },
  {
   "cell_type": "markdown",
   "metadata": {},
   "source": [
    "Datetime object with ZoneInfo and conversion"
   ]
  },
  {
   "cell_type": "code",
   "execution_count": 12,
   "metadata": {},
   "outputs": [
    {
     "name": "stdout",
     "output_type": "stream",
     "text": [
      "2025-01-22 10:25:00+01:00\n"
     ]
    }
   ],
   "source": [
    "from datetime import datetime\n",
    "from zoneinfo import ZoneInfo\n",
    "\n",
    "timestamp = 1737537900\n",
    "dt_utc = datetime.fromtimestamp(timestamp, tz=ZoneInfo(\"UTC\"))  # UTC is 2025-01-22 09:25:00+01:00\n",
    "dt_local = dt_utc.astimezone(ZoneInfo(\"Europe/Berlin\"))\n",
    "print(dt_local)  # 2025-01-22 10:25:00+01:00"
   ]
  },
  {
   "cell_type": "markdown",
   "metadata": {},
   "source": [
    "UTC-Offset conversions with zoneinfo"
   ]
  },
  {
   "cell_type": "code",
   "execution_count": 13,
   "metadata": {},
   "outputs": [
    {
     "name": "stdout",
     "output_type": "stream",
     "text": [
      "2025-01-20 16:30:00+01:00\n"
     ]
    }
   ],
   "source": [
    "# ZoneInfo makes the conversion more precise as it is based on the official time zone data (e.g. summer time change).\n",
    "\n",
    "from datetime import datetime, timedelta\n",
    "from zoneinfo import ZoneInfo\n",
    "\n",
    "# UTC offset for a specific time zone, e.g. Berlin (GMT+1)\n",
    "utc_offset = timedelta(hours=1)  # If this is explicitly required\n",
    "timezone_berlin = ZoneInfo('Europe/Berlin')\n",
    "\n",
    "# Example time with a specific offset\n",
    "datetime_with_offset = datetime(2025, 1, 20, 15, 30) + utc_offset\n",
    "\n",
    "# Conversion to Berlin time zone\n",
    "dt_berlin = datetime_with_offset.replace(tzinfo=timezone_berlin)\n",
    "\n",
    "print(dt_berlin)"
   ]
  },
  {
   "cell_type": "markdown",
   "metadata": {},
   "source": [
    "# Parsing a date string with dateutil.parser\n",
    "You can use the parse() function of dateutil.parser to convert date strings into Python datetime objects. It is particularly useful if you are working with flexible and unstructured time specifications.\n",
    "\n",
    "If necessary, install the library first:\n",
    "“pip install python-dateutil”\n",
    "\n",
    "dateutil.parser.parse() recognizes a variety of formats such as:\n",
    "\n",
    "- 2025-01-22 09:25:00\n",
    "- January 22, 2025 09:25:00\n",
    "- 2025-01-22T09:25:00\n",
    "- 22/01/2025 09:25:00"
   ]
  },
  {
   "cell_type": "code",
   "execution_count": 14,
   "metadata": {},
   "outputs": [
    {
     "name": "stdout",
     "output_type": "stream",
     "text": [
      "Parsed Date: 2025-01-22 09:25:00\n"
     ]
    }
   ],
   "source": [
    "from dateutil import parser\n",
    "\n",
    "# Example of a simple date string\n",
    "date_str = \"2025-01-22 09:25:00\"\n",
    "parsed_date = parser.parse(date_str)\n",
    "print(f\"Parsed Date: {parsed_date}\")"
   ]
  },
  {
   "cell_type": "code",
   "execution_count": 16,
   "metadata": {},
   "outputs": [
    {
     "name": "stdout",
     "output_type": "stream",
     "text": [
      "2025-01-20 15:30:00+00:00\n"
     ]
    }
   ],
   "source": [
    "# Formatting and parsing of date strings\n",
    "\n",
    "from dateutil import parser  \n",
    "date_str = '2025-01-20T15:30:00Z'  \n",
    "dt = parser.parse(date_str)\n",
    "print(dt)"
   ]
  },
  {
   "cell_type": "markdown",
   "metadata": {},
   "source": [
    "Parsing dates and times with different formats"
   ]
  },
  {
   "cell_type": "code",
   "execution_count": null,
   "metadata": {},
   "outputs": [],
   "source": [
    "date_str1 = \"22 January 2025 09:25 AM\"\n",
    "date_str2 = \"2025-01-22T09:25:00+00:00\"\n",
    "date_str3 = \"01/22/2025 09:25:00\"\n",
    "\n",
    "parsed_date1 = parser.parse(date_str1)\n",
    "parsed_date2 = parser.parse(date_str2)\n",
    "parsed_date3 = parser.parse(date_str3)\n",
    "\n",
    "print(f\"Parsed Date 1: {parsed_date1}\")\n",
    "print(f\"Parsed Date 2: {parsed_date2}\")\n",
    "print(f\"Parsed Date 3: {parsed_date3}\")"
   ]
  },
  {
   "cell_type": "markdown",
   "metadata": {},
   "source": [
    "Time zone parsing and automatic time zone detection"
   ]
  },
  {
   "cell_type": "code",
   "execution_count": null,
   "metadata": {},
   "outputs": [],
   "source": [
    "date_str_with_timezone = \"2025-01-22 09:25:00+02:00\"\n",
    "parsed_date_with_tz = parser.parse(date_str_with_timezone)\n",
    "print(f\"Parsed Date with Timezone: {parsed_date_with_tz}\")"
   ]
  },
  {
   "cell_type": "markdown",
   "metadata": {},
   "source": [
    "Use of dateutil.parser with fuzzy parsing"
   ]
  },
  {
   "cell_type": "code",
   "execution_count": null,
   "metadata": {},
   "outputs": [],
   "source": [
    "date_str_1 = \"next Monday\"\n",
    "date_str_2 = \"last Friday\"\n",
    "parsed_date_1 = parser.parse(date_str_1, fuzzy=True)\n",
    "parsed_date_2 = parser.parse(date_str_2, fuzzy=True)\n",
    "\n",
    "print(f\"Next Monday: {parsed_date_1}\")\n",
    "print(f\"Last Friday: {parsed_date_2}\")"
   ]
  },
  {
   "cell_type": "markdown",
   "metadata": {},
   "source": [
    "Processing relative times"
   ]
  },
  {
   "cell_type": "code",
   "execution_count": 17,
   "metadata": {},
   "outputs": [
    {
     "name": "stdout",
     "output_type": "stream",
     "text": [
      "In 2 Weeks: 2025-02-11 12:00:28.606629\n",
      "3 Days ago: 2025-01-25 12:00:28.606629\n"
     ]
    }
   ],
   "source": [
    "from dateutil.relativedelta import relativedelta\n",
    "\n",
    "# Current date\n",
    "now = datetime.now()\n",
    "\n",
    "# 2 weeks in the future\n",
    "future_date = now + relativedelta(weeks=+2)\n",
    "print(f\"In 2 Weeks: {future_date}\")\n",
    "\n",
    "# 3 days in the past\n",
    "past_date = now + relativedelta(days=-3)\n",
    "print(f\"3 Days ago: {past_date}\")"
   ]
  },
  {
   "cell_type": "markdown",
   "metadata": {},
   "source": [
    "If you are working with predefined fixed formats, you can still use `datetime.strptime()`. But if you need a versatile and flexible solution that supports different formats, `dateutil.parser.parse()` is the way to go."
   ]
  },
  {
   "cell_type": "markdown",
   "metadata": {},
   "source": [
    "# Time differences and timedelta\n",
    "A timedelta object is used to represent time intervals. You can create it with different parameters such as days, hours, minutes, seconds, milliseconds and microseconds."
   ]
  },
  {
   "cell_type": "code",
   "execution_count": 19,
   "metadata": {},
   "outputs": [
    {
     "name": "stdout",
     "output_type": "stream",
     "text": [
      "Time difference: 5 days, 3:45:00\n"
     ]
    }
   ],
   "source": [
    "from datetime import timedelta\n",
    "\n",
    "# Example: Create a timedelta object for 5 days, 3 hours and 45 minutes\n",
    "delta = timedelta(days=5, hours=3, minutes=45)\n",
    "print(f\"Time difference: {delta}\")"
   ]
  },
  {
   "cell_type": "markdown",
   "metadata": {},
   "source": [
    "Addition and subtraction of timedelta to datetime\n",
    "\n",
    "With timedelta you can add time intervals to datetime objects or subtract time intervals from them:"
   ]
  },
  {
   "cell_type": "code",
   "execution_count": 20,
   "metadata": {},
   "outputs": [
    {
     "name": "stdout",
     "output_type": "stream",
     "text": [
      "Future date (5 days later): 2025-01-27 09:25:00\n",
      "Past date (2 hours and 30 minutes earlier): 2025-01-22 06:55:00\n"
     ]
    }
   ],
   "source": [
    "from datetime import datetime, timedelta\n",
    "\n",
    "# Create a datetime object for the reference time\n",
    "dt = datetime(2025, 1, 22, 9, 25, 0)\n",
    "\n",
    "# Add 5 days\n",
    "future_date = dt + timedelta(days=5)\n",
    "print(f\"Future date (5 days later): {future_date}\")\n",
    "\n",
    "# Subtract 2 hours and 30 minutes\n",
    "past_date = dt - timedelta(hours=2, minutes=30)\n",
    "print(f\"Past date (2 hours and 30 minutes earlier): {past_date}\")"
   ]
  },
  {
   "cell_type": "markdown",
   "metadata": {},
   "source": [
    "Calculating the difference between two datetime objects"
   ]
  },
  {
   "cell_type": "code",
   "execution_count": 22,
   "metadata": {},
   "outputs": [
    {
     "name": "stdout",
     "output_type": "stream",
     "text": [
      "Time difference between dt2 and dt1: 3 days, 0:00:00\n",
      "Days: 3\n",
      "Seconds: 259200.0\n"
     ]
    }
   ],
   "source": [
    "# Two different datetime objects\n",
    "dt1 = datetime(2025, 1, 22, 9, 25, 0)\n",
    "dt2 = datetime(2025, 1, 25, 9, 25, 0)\n",
    "\n",
    "# Calculating the time difference\n",
    "time_diff = dt2 - dt1\n",
    "print(f\"Time difference between dt2 and dt1: {time_diff}\")\n",
    "\n",
    "# The difference can also be displayed in days, seconds and other units\n",
    "print(f\"Days: {time_diff.days}\")\n",
    "print(f\"Seconds: {time_diff.total_seconds()}\")"
   ]
  },
  {
   "cell_type": "markdown",
   "metadata": {},
   "source": [
    "Using timedelta with different units"
   ]
  },
  {
   "cell_type": "code",
   "execution_count": 24,
   "metadata": {},
   "outputs": [
    {
     "name": "stdout",
     "output_type": "stream",
     "text": [
      "Extended time difference: 1165 days, 0:00:00\n",
      "Time difference: 0:10:45\n"
     ]
    }
   ],
   "source": [
    "# Example: 3 years, 2 months and 10 days\n",
    "delta_extended = timedelta(days=(3 * 365 + 2 * 30 + 10))  # 3 Jahre + 2 Monate + 10 Tage\n",
    "print(f\"Extended time difference: {delta_extended}\")\n",
    "\n",
    "# Example: 10 Minutes and 45 Seconds\n",
    "delta_minutes_seconds = timedelta(minutes=10, seconds=45)\n",
    "print(f\"Time difference: {delta_minutes_seconds}\")"
   ]
  },
  {
   "cell_type": "markdown",
   "metadata": {},
   "source": [
    "Working with negative timedelta values"
   ]
  },
  {
   "cell_type": "code",
   "execution_count": 25,
   "metadata": {},
   "outputs": [
    {
     "name": "stdout",
     "output_type": "stream",
     "text": [
      "One week ago: 2025-01-15 09:25:00\n",
      "3 hours ago: 2025-01-22 06:25:00\n"
     ]
    }
   ],
   "source": [
    "# Example: Subtract one week (7 days)\n",
    "one_week_ago = dt - timedelta(weeks=1)\n",
    "print(f\"One week ago: {one_week_ago}\")\n",
    "\n",
    "# Example: Subtract 3 hours\n",
    "three_hours_ago = dt - timedelta(hours=3)\n",
    "print(f\"3 hours ago: {three_hours_ago}\")\n"
   ]
  },
  {
   "cell_type": "markdown",
   "metadata": {},
   "source": [
    "Calculate “Remaining time”"
   ]
  },
  {
   "cell_type": "code",
   "execution_count": 26,
   "metadata": {},
   "outputs": [
    {
     "name": "stdout",
     "output_type": "stream",
     "text": [
      "Time remaining until the end of the year: 337 days, 11:49:50.602776\n"
     ]
    }
   ],
   "source": [
    "# Future date (e.g. the end of a project)\n",
    "end_date = datetime(2025, 12, 31, 23, 59, 59)\n",
    "\n",
    "# Calculate the remaining time\n",
    "remaining_time = end_date - datetime.now()\n",
    "print(f\"Time remaining until the end of the year: {remaining_time}\")\n"
   ]
  },
  {
   "cell_type": "markdown",
   "metadata": {},
   "source": [
    "# Working with UTC and local time\n",
    "Datetime for UTC and local timezones\n",
    "\n",
    "In Python, you can easily convert between UTC and local times using the zoneinfo library. Here is an example that shows how to create UTC timestamps and convert them to local time Remaining time until the end of the year"
   ]
  },
  {
   "cell_type": "markdown",
   "metadata": {},
   "source": [
    "Use UTC time and conversions to local time"
   ]
  },
  {
   "cell_type": "code",
   "execution_count": 27,
   "metadata": {},
   "outputs": [
    {
     "name": "stdout",
     "output_type": "stream",
     "text": [
      "UTC-Time: 2025-01-28 11:22:04.816680+00:00\n",
      "Local Time (Berlin): 2025-01-28 12:22:04.816680+01:00\n",
      "Local Time (New York): 2025-01-28 06:22:04.816680-05:00\n"
     ]
    }
   ],
   "source": [
    "from datetime import datetime\n",
    "from zoneinfo import ZoneInfo\n",
    "\n",
    "# Create a UTC-Time\n",
    "dt_utc = datetime.now(tz=ZoneInfo(\"UTC\"))\n",
    "print(f\"UTC-Time: {dt_utc}\")\n",
    "\n",
    "# Convert UTC time to local time (e.g. for Berlin)\n",
    "dt_local = dt_utc.astimezone(ZoneInfo(\"Europe/Berlin\"))\n",
    "print(f\"Local Time (Berlin): {dt_local}\")\n",
    "\n",
    "# Converting the UTC time to New York\n",
    "dt_ny = dt_utc.astimezone(ZoneInfo(\"America/New_York\"))\n",
    "print(f\"Local Time (New York): {dt_ny}\")"
   ]
  },
  {
   "cell_type": "markdown",
   "metadata": {},
   "source": [
    "Avoid naive timestamps (datetime objects without time zones)Convert UTC time to New York\n",
    "\n",
    "Naive timestamps (i.e. datetime objects without time zone information) are problematic because they have no time zone information and therefore do not allow correct conversion to other time zones."
   ]
  },
  {
   "cell_type": "code",
   "execution_count": null,
   "metadata": {},
   "outputs": [],
   "source": [
    "from datetime import datetime\n",
    "\n",
    "# Naiv timestamp\n",
    "naive_time = datetime(2025, 1, 22, 9, 25, 0)\n",
    "print(f\"Naiv timestamp: {naive_time}\")\n",
    "\n",
    "# Problems arise during conversion because no time zone is specified\n",
    "try:\n",
    "    naive_time_utc = naive_time.astimezone(ZoneInfo(\"UTC\"))\n",
    "except Exception as e:\n",
    "    print(f\"Error during conversion: {e}\")\n"
   ]
  },
  {
   "cell_type": "markdown",
   "metadata": {},
   "source": [
    "Save timestamps in UTC and only convert locally if required"
   ]
  },
  {
   "cell_type": "code",
   "execution_count": 29,
   "metadata": {},
   "outputs": [
    {
     "name": "stdout",
     "output_type": "stream",
     "text": [
      "Timestamp in UTC: 2025-01-28 15:07:47.365086+00:00\n",
      "Time zone of Berling (display): 2025-01-28 16:07:47.365086+01:00\n",
      "Time zone for New York (display): 2025-01-28 10:07:47.365086-05:00\n"
     ]
    }
   ],
   "source": [
    "from datetime import datetime\n",
    "from zoneinfo import ZoneInfo\n",
    "\n",
    "# Create a timestamp in UTC\n",
    "dt_utc = datetime.now(tz=ZoneInfo(\"UTC\"))\n",
    "print(f\"Timestamp in UTC: {dt_utc}\")\n",
    "\n",
    "# Conversion to Berlin for display to the user\n",
    "dt_berlin = dt_utc.astimezone(ZoneInfo(\"Europe/Berlin\"))\n",
    "print(f\"Time zone of Berling (display): {dt_berlin}\")\n",
    "\n",
    "# Conversion to New York for display to the user\n",
    "dt_ny = dt_utc.astimezone(ZoneInfo(\"America/New_York\"))\n",
    "print(f\"Time zone for New York (display): {dt_ny}\")"
   ]
  },
  {
   "cell_type": "markdown",
   "metadata": {},
   "source": [
    "Working with UTC and local time zones\n",
    "\n",
    "A practical example where we show a datetime object with a naive time and the conversion to UTC and then to a local time zone:"
   ]
  },
  {
   "cell_type": "code",
   "execution_count": 30,
   "metadata": {},
   "outputs": [
    {
     "name": "stdout",
     "output_type": "stream",
     "text": [
      "Naive time with UTC time zone: 2025-01-22 09:25:00+00:00\n",
      "Local time in Berlin: 2025-01-22 10:25:00+01:00\n",
      "Local time in New York: 2025-01-22 04:25:00-05:00\n"
     ]
    }
   ],
   "source": [
    "from datetime import datetime\n",
    "from zoneinfo import ZoneInfo\n",
    "\n",
    "# Naive time (e.g. user specifies a time without a time zone)\n",
    "naive_time = datetime(2025, 1, 22, 9, 25, 0)\n",
    "\n",
    "# Convert naive timestamp to UTC\n",
    "aware_utc_time = naive_time.replace(tzinfo=ZoneInfo(\"UTC\"))\n",
    "print(f\"Naive time with UTC time zone: {aware_utc_time}\")\n",
    "\n",
    "# Convert to local time (Berlin)\n",
    "local_time_berlin = aware_utc_time.astimezone(ZoneInfo(\"Europe/Berlin\"))\n",
    "print(f\"Local time in Berlin: {local_time_berlin}\")\n",
    "\n",
    "# Convert to local time (New York)\n",
    "local_time_ny = aware_utc_time.astimezone(ZoneInfo(\"America/New_York\"))\n",
    "print(f\"Local time in New York: {local_time_ny}\")"
   ]
  },
  {
   "cell_type": "markdown",
   "metadata": {},
   "source": [
    "Convert UTC offsets to seconds with zoneinfo\n",
    "\n",
    "We can use the target time zone directly, as ZoneInfo manages the offsets itself. No explicit calculation of seconds or the use of timedelta is required."
   ]
  },
  {
   "cell_type": "code",
   "execution_count": null,
   "metadata": {},
   "outputs": [],
   "source": [
    "from datetime import datetime, timedelta\n",
    "from zoneinfo import ZoneInfo\n",
    "\n",
    "# UTC offset in seconds, e.g. for UTC+5:30\n",
    "utc_offset_seconds = 5 * 3600 + 30 * 60 # 5 hours + 30 minutes = 19800 seconds\n",
    "timezone_offset = timedelta(seconds=utc_offset_seconds)\n",
    "\n",
    "# Example time with the offset\n",
    "datetime_with_offset = datetime(2025, 1, 20, 15, 30) + timezone_offset\n",
    "\n",
    "# Conversion to the respective time zone\n",
    "timezone_india = ZoneInfo('Asia/Kolkata')\n",
    "dt_india = datetime_with_offset.replace(tzinfo=timezone_india)\n",
    "print(dt_india)"
   ]
  },
  {
   "cell_type": "markdown",
   "metadata": {},
   "source": [
    "# Epoch time: Handling Unix timestamps\n",
    "\n",
    "You can determine the current Unix time with the time module in Python:"
   ]
  },
  {
   "cell_type": "code",
   "execution_count": 31,
   "metadata": {},
   "outputs": [
    {
     "name": "stdout",
     "output_type": "stream",
     "text": [
      "Unix timestamp (in seconds since 1970): 1738077136.3732817\n"
     ]
    }
   ],
   "source": [
    "import time\n",
    "\n",
    "# Get current Unix timestamp in seconds\n",
    "epoch_time = time.time()\n",
    "print(f\"Unix timestamp (in seconds since 1970): {epoch_time}\")"
   ]
  },
  {
   "cell_type": "markdown",
   "metadata": {},
   "source": [
    "Converting a Unix timestamp into a datetime object"
   ]
  },
  {
   "cell_type": "code",
   "execution_count": 33,
   "metadata": {},
   "outputs": [
    {
     "name": "stdout",
     "output_type": "stream",
     "text": [
      "Date and time from Unix timestamp: 2025-01-23 03:40:00\n"
     ]
    }
   ],
   "source": [
    "from datetime import datetime\n",
    "\n",
    "# Unix timestamp (e.g. for January 22, 2025)\n",
    "unix_timestamp = 1737600000\n",
    "\n",
    "# Convert the Unix timestamp into a datetime object\n",
    "dt_from_epoch = datetime.fromtimestamp(unix_timestamp)\n",
    "print(f\"Date and time from Unix timestamp: {dt_from_epoch}\")"
   ]
  },
  {
   "cell_type": "markdown",
   "metadata": {},
   "source": [
    "Unix timestamp in UTC time"
   ]
  },
  {
   "cell_type": "code",
   "execution_count": 34,
   "metadata": {},
   "outputs": [
    {
     "name": "stdout",
     "output_type": "stream",
     "text": [
      "2024-01-22 07:45:00+00:00\n",
      "2024-01-22T07:45:00+00:00\n"
     ]
    }
   ],
   "source": [
    "from datetime import datetime, timezone\n",
    "\n",
    "timestamp = 1705909500\n",
    "\n",
    "# UNIX timestamp in UTC time with time zone information\n",
    "dt_utc = datetime.fromtimestamp(timestamp, tz=timezone.utc)\n",
    "print(dt_utc)  # OUTPUT: 2024-01-22 08:25:00+00:00\n",
    "\n",
    "# ISO 8601-Format\n",
    "iso_format = dt_utc.isoformat()\n",
    "print(iso_format) # OUTPUT: '2024-01-22T08:25:00+00:00'"
   ]
  },
  {
   "cell_type": "markdown",
   "metadata": {},
   "source": [
    "Converting a datetime object into a Unix timestamp"
   ]
  },
  {
   "cell_type": "code",
   "execution_count": 36,
   "metadata": {},
   "outputs": [
    {
     "name": "stdout",
     "output_type": "stream",
     "text": [
      "Unix timestamp for 2025-01-22 09:25:00: 1737534300.0\n"
     ]
    }
   ],
   "source": [
    "from datetime import datetime\n",
    "\n",
    "# Example for a datetime object (January 22, 2025, 09:25:00)\n",
    "dt = datetime(2025, 1, 22, 9, 25, 0)\n",
    "\n",
    "# Convert the datetime object into a Unix timestamp\n",
    "unix_timestamp = dt.timestamp()\n",
    "print(f\"Unix timestamp for {dt}: {unix_timestamp}\")"
   ]
  },
  {
   "cell_type": "markdown",
   "metadata": {},
   "source": [
    "Use of time module for Unix timestamps"
   ]
  },
  {
   "cell_type": "code",
   "execution_count": 37,
   "metadata": {},
   "outputs": [
    {
     "name": "stdout",
     "output_type": "stream",
     "text": [
      "The time in UTC: 2025-01-28 15:15:31\n"
     ]
    }
   ],
   "source": [
    "import time\n",
    "\n",
    "# Get current Unix timestamp (in seconds)\n",
    "epoch_time = time.time()\n",
    "\n",
    "# Convert the Unix timestamp into a readable time\n",
    "time_struct = time.gmtime(epoch_time)\n",
    "print(f\"The time in UTC: {time.strftime('%Y-%m-%d %H:%M:%S', time_struct)}\")"
   ]
  },
  {
   "cell_type": "markdown",
   "metadata": {},
   "source": [
    "Unix timestamp with milliseconds or microseconds"
   ]
  },
  {
   "cell_type": "code",
   "execution_count": 38,
   "metadata": {},
   "outputs": [
    {
     "name": "stdout",
     "output_type": "stream",
     "text": [
      "Unix timestamp with milliseconds: 1738077382.5216343\n",
      "Unix timestamp in seconds and microseconds: 1738077382 seconds, 522634 microseconds\n"
     ]
    }
   ],
   "source": [
    "import time\n",
    "\n",
    "# Current Unix timestamp with milliseconds\n",
    "epoch_time_ms = time.time()\n",
    "print(f\"Unix timestamp with milliseconds: {epoch_time_ms}\")\n",
    "\n",
    "# Unix timestamp in seconds and microseconds\n",
    "epoch_time_sec_micro = time.time()\n",
    "seconds = int(epoch_time_sec_micro)\n",
    "microseconds = int((epoch_time_sec_micro - seconds) * 1_000_000)\n",
    "print(f\"Unix timestamp in seconds and microseconds: {seconds} seconds, {microseconds} microseconds\")"
   ]
  },
  {
   "cell_type": "markdown",
   "metadata": {},
   "source": [
    "Epoch time and time zones: Converting a Unix timestamp to local time"
   ]
  },
  {
   "cell_type": "code",
   "execution_count": 42,
   "metadata": {},
   "outputs": [
    {
     "name": "stdout",
     "output_type": "stream",
     "text": [
      "UTC time: 2025-01-23 02:40:00+00:00\n",
      "Local time (Berlin): 2025-01-23 03:40:00+01:00\n"
     ]
    }
   ],
   "source": [
    "from datetime import datetime\n",
    "from zoneinfo import ZoneInfo\n",
    "\n",
    "# Beispiel Unix-Zeitstempel (z. B. 1737600000 entspricht 23. Januar 2025 02:40:00 UTC)\n",
    "unix_timestamp = 1737600000\n",
    "\n",
    "# Konvertiere Unix-Zeitstempel in eine UTC-Datetime-Objekt\n",
    "dt_utc = datetime.fromtimestamp(unix_timestamp, tz=ZoneInfo(\"UTC\"))\n",
    "print(f\"UTC time: {dt_utc}\")\n",
    "\n",
    "# Konvertiere die UTC-Zeit in lokale Zeit (z. B. Berlin)\n",
    "local_time = dt_utc.astimezone(ZoneInfo(\"Europe/Berlin\"))\n",
    "print(f\"Local time (Berlin): {local_time}\")"
   ]
  },
  {
   "cell_type": "markdown",
   "metadata": {},
   "source": [
    "# ISO 8601 format: standardized time formats\n",
    "\n",
    "ISO 8601 specifies the representation of date and time in a standardized format, which looks as follows:\n",
    "\n",
    "- Date: YYYY-MM-DD\n",
    "- Time: hh:mm:ss\n",
    "- Complete format: YYYY-MM-DDTHH:mm:ss (with the T as a separator between date and time)\n",
    "- Numerous extensions: It can also include milliseconds, time zone information and time durations."
   ]
  },
  {
   "cell_type": "code",
   "execution_count": 43,
   "metadata": {},
   "outputs": [
    {
     "name": "stdout",
     "output_type": "stream",
     "text": [
      "ISO 8601 format: 2025-01-28T16:24:12.456992\n"
     ]
    }
   ],
   "source": [
    "from datetime import datetime\n",
    "\n",
    "# Create a current in ISO 8601\n",
    "now = datetime.now()\n",
    "iso_format = now.isoformat()\n",
    "print(f\"ISO 8601 format: {iso_format}\")"
   ]
  },
  {
   "cell_type": "markdown",
   "metadata": {},
   "source": [
    "ISO 8601 with time zone information"
   ]
  },
  {
   "cell_type": "code",
   "execution_count": 45,
   "metadata": {},
   "outputs": [
    {
     "name": "stdout",
     "output_type": "stream",
     "text": [
      "ISO 8601 with time zone: 2025-01-28T16:25:24.846171+01:00\n"
     ]
    }
   ],
   "source": [
    "from datetime import datetime\n",
    "from zoneinfo import ZoneInfo\n",
    "\n",
    "# Create a timestamp with a time zone\n",
    "dt_with_tz = datetime.now(tz=ZoneInfo(\"Europe/Berlin\"))\n",
    "\n",
    "# Convert to ISO 8601 format with time zone information\n",
    "iso_format_with_tz = dt_with_tz.isoformat()\n",
    "print(f\"ISO 8601 with time zone: {iso_format_with_tz}\")"
   ]
  },
  {
   "cell_type": "code",
   "execution_count": 44,
   "metadata": {},
   "outputs": [
    {
     "name": "stdout",
     "output_type": "stream",
     "text": [
      "2024-01-22T09:25:00+01:00\n"
     ]
    }
   ],
   "source": [
    "from datetime import datetime\n",
    "from zoneinfo import ZoneInfo\n",
    "\n",
    "berlin_tz = ZoneInfo('Europe/Berlin')\n",
    "dt = datetime(2024, 1, 22, 9, 25, tzinfo=berlin_tz)\n",
    "iso_format = dt.isoformat()  # ISO 8601: '2024-01-22T09:25:00+01:00'\n",
    "print(iso_format)"
   ]
  },
  {
   "cell_type": "markdown",
   "metadata": {},
   "source": [
    "ISO 8601 with milliseconds"
   ]
  },
  {
   "cell_type": "code",
   "execution_count": 46,
   "metadata": {},
   "outputs": [
    {
     "name": "stdout",
     "output_type": "stream",
     "text": [
      "ISO 8601 with milliseconds: 2025-01-28T16:26:24.828\n"
     ]
    }
   ],
   "source": [
    "from datetime import datetime\n",
    "\n",
    "# Create a timestamp with milliseconds\n",
    "now_with_ms = datetime.now()\n",
    "iso_format_with_ms = now_with_ms.isoformat(timespec='milliseconds')\n",
    "print(f\"ISO 8601 with milliseconds: {iso_format_with_ms}\")"
   ]
  },
  {
   "cell_type": "markdown",
   "metadata": {},
   "source": [
    "ISO 8601 parsing"
   ]
  },
  {
   "cell_type": "code",
   "execution_count": null,
   "metadata": {},
   "outputs": [],
   "source": [
    "from datetime import datetime\n",
    "\n",
    "# ISO 8601-timestamp\n",
    "iso_string = \"2025-01-22T09:25:00\"\n",
    "\n",
    "# Parsing the ISO 8601 timestamp into a datetime object\n",
    "dt_parsed = datetime.fromisoformat(iso_string)\n",
    "print(f\"Parsded datetime: {dt_parsed}\")\n"
   ]
  },
  {
   "cell_type": "markdown",
   "metadata": {},
   "source": [
    "ISO 8601 with time zone parsing"
   ]
  },
  {
   "cell_type": "code",
   "execution_count": 47,
   "metadata": {},
   "outputs": [
    {
     "name": "stdout",
     "output_type": "stream",
     "text": [
      "Parsded datetime with time zone: 2025-01-22 09:25:00+01:00\n"
     ]
    }
   ],
   "source": [
    "from datetime import datetime\n",
    "\n",
    "# ISO 8601 time stamp with time zone information\n",
    "iso_string_with_tz = \"2025-01-22T09:25:00+01:00\"\n",
    "\n",
    "# Parsing the ISO 8601 timestamp with time zone information\n",
    "dt_parsed_with_tz = datetime.fromisoformat(iso_string_with_tz)\n",
    "print(f\"Parsded datetime with time zone: {dt_parsed_with_tz}\")"
   ]
  },
  {
   "cell_type": "markdown",
   "metadata": {},
   "source": [
    "ISO 8601 and timestamps (JSON Parsing)"
   ]
  },
  {
   "cell_type": "code",
   "execution_count": null,
   "metadata": {},
   "outputs": [],
   "source": [
    "import json\n",
    "from datetime import datetime\n",
    "\n",
    "json_data = '{\"timestamp\": \"2024-01-22T09:25:00+01:00\"}'\n",
    "parsed = json.loads(json_data)\n",
    "datetime_object = datetime.fromisoformat(parsed['timestamp'])"
   ]
  }
 ],
 "metadata": {
  "kernelspec": {
   "display_name": "base",
   "language": "python",
   "name": "python3"
  },
  "language_info": {
   "codemirror_mode": {
    "name": "ipython",
    "version": 3
   },
   "file_extension": ".py",
   "mimetype": "text/x-python",
   "name": "python",
   "nbconvert_exporter": "python",
   "pygments_lexer": "ipython3",
   "version": "3.12.7"
  }
 },
 "nbformat": 4,
 "nbformat_minor": 2
}
